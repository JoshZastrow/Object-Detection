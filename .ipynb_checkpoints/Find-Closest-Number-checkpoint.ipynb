{
 "cells": [
  {
   "cell_type": "markdown",
   "metadata": {},
   "source": [
    "---\n",
    "title: \"Find Nearest Number\"\n",
    "date: \"2018-05-31\"\n",
    "path: \"/find-nearest-number/\"\n",
    "category: \"Notes\"\n",
    "section: \"Algorithms And Data Structures\"\n",
    "---\n",
    "\n",
    "\n",
    "## Find the closest number to X in a series of floating point numbers."
   ]
  },
  {
   "cell_type": "code",
   "execution_count": 54,
   "metadata": {},
   "outputs": [],
   "source": [
    "import numpy as np\n",
    "\n",
    "X = 52\n",
    "series = np.random.choice(np.arange(100), 15) "
   ]
  },
  {
   "cell_type": "code",
   "execution_count": 55,
   "metadata": {},
   "outputs": [
    {
     "data": {
      "text/plain": [
       "array([96, 63, 71, 61, 71, 21, 42, 19, 33, 14, 71, 83, 74, 42, 50])"
      ]
     },
     "execution_count": 55,
     "metadata": {},
     "output_type": "execute_result"
    }
   ],
   "source": [
    "series"
   ]
  },
  {
   "cell_type": "markdown",
   "metadata": {},
   "source": [
    "A good way to tackle this is to take the array of data and restructure it as a binary tree. From there a binary search can find the value in O(N) time. The worst case scenario being the series value is the lowest value in the series, so Binary Search would search every node (value) until it got to the smallest leaf."
   ]
  },
  {
   "cell_type": "code",
   "execution_count": 56,
   "metadata": {},
   "outputs": [],
   "source": [
    "class node():\n",
    "    \n",
    "    def __init__(self, value):\n",
    "        self.value = value\n",
    "        self.left  = None\n",
    "        self.right = None\n",
    "        \n",
    "    def __call__(self):\n",
    "        return self.value\n",
    "        \n",
    "        \n",
    "class tree():\n",
    "    \n",
    "    def __init__(self):\n",
    "        self.root = None\n",
    "        \n",
    "    def add(self, values):\n",
    "        if len(values) > 1:\n",
    "            for v in values:\n",
    "                self.add_node(v)\n",
    "        else:\n",
    "            self.add_node(values)\n",
    "                \n",
    "    def add_node(self, value):\n",
    "        if self.root is None:\n",
    "            self.root = node(value)\n",
    "        else:\n",
    "            self._add(self.root, value)\n",
    "    \n",
    "    def _add(self, curr_node, value):\n",
    "        if value < curr_node.value:\n",
    "            if curr_node.left is None:\n",
    "                curr_node.left = node(value)\n",
    "            else:\n",
    "                self._add(curr_node.left, value)\n",
    "        else:\n",
    "            if curr_node.right is None:\n",
    "                curr_node.right = node(value)\n",
    "            else:\n",
    "                self._add(curr_node.right, value)\n",
    "                \n",
    "          \n",
    "        \n",
    "    def find(self, value):\n",
    "        if value < self.root.value:\n",
    "            if self.root.left is None:\n",
    "                return self.root.value\n",
    "            else:\n",
    "                return self._find(self.root.left, value)\n",
    "        elif value > self.root.value:\n",
    "            if self.root.right is None:\n",
    "                return self.root.value\n",
    "            else:\n",
    "                return self._find(self.root.right, value)\n",
    "        else:\n",
    "            return self.root.value\n",
    "        \n",
    "        \n",
    "    def _find(self, curr_node, value):\n",
    "        if value < curr_node.value:\n",
    "            if curr_node.left is None:\n",
    "                return curr_node.value\n",
    "            else:\n",
    "                return self._find(curr_node.left, value)\n",
    "        elif value > curr_node.value:\n",
    "            if curr_node.right is None:\n",
    "                return curr_node.value\n",
    "            else:\n",
    "                return self._find(curr_node.right, value)\n",
    "        else:\n",
    "            return curr_node.value"
   ]
  },
  {
   "cell_type": "code",
   "execution_count": 60,
   "metadata": {},
   "outputs": [
    {
     "name": "stdout",
     "output_type": "stream",
     "text": [
      "Closest number to 52 is: 50\n"
     ]
    }
   ],
   "source": [
    "\n",
    "T = tree()\n",
    "T.add(series)\n",
    "print('Closest number to {} is:'.format(X), T.find(X))"
   ]
  }
 ],
 "metadata": {
  "kernelspec": {
   "display_name": "Python [default]",
   "language": "python",
   "name": "python3"
  },
  "language_info": {
   "codemirror_mode": {
    "name": "ipython",
    "version": 3
   },
   "file_extension": ".py",
   "mimetype": "text/x-python",
   "name": "python",
   "nbconvert_exporter": "python",
   "pygments_lexer": "ipython3",
   "version": "3.6.5"
  }
 },
 "nbformat": 4,
 "nbformat_minor": 2
}
